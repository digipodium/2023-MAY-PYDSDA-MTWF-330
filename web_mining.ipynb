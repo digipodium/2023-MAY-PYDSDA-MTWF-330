{
 "cells": [
  {
   "cell_type": "markdown",
   "metadata": {},
   "source": [
    "`pip install dputils sqlalchemy`"
   ]
  },
  {
   "cell_type": "code",
   "execution_count": 1,
   "metadata": {},
   "outputs": [],
   "source": [
    "from dputils.scrape import Tag, Scraper"
   ]
  },
  {
   "cell_type": "code",
   "execution_count": 26,
   "metadata": {},
   "outputs": [],
   "source": [
    "url ='https://timesofindia.indiatimes.com/news'\n",
    "\n",
    "# Create a Scraper object\n",
    "scr = Scraper(url)"
   ]
  },
  {
   "cell_type": "code",
   "execution_count": 27,
   "metadata": {},
   "outputs": [],
   "source": [
    "# 1. target tag\n",
    "target = Tag('ul', cls='cvs_wdt clearfix')\n",
    "# 2. repeating item tag\n",
    "items = Tag('li')\n",
    "# 3. what to extract \n",
    "title = Tag('span', cls='w_tle')\n",
    "# desc = Tag('div', cls='w_desc')\n",
    "imgurl = Tag('img', output='src')"
   ]
  },
  {
   "cell_type": "code",
   "execution_count": 28,
   "metadata": {},
   "outputs": [
    {
     "data": {
      "text/plain": [
       "[{'title': \"NCB: Sameer had 'intentions' to arrest Aryan\",\n",
       "  'img': 'https://static.toiimg.com/thumb/msid-34824568,height-169,width-300/34824568.jpg'},\n",
       " {'title': \"Truth about Kiara and Kareena's reunion\",\n",
       "  'img': 'https://static.toiimg.com/thumb/msid-34824568,height-169,width-300/34824568.jpg'},\n",
       " {'title': 'Video: Ananya-Aditya avoid posing with a fan',\n",
       "  'img': 'https://static.toiimg.com/thumb/msid-34824568,height-169,width-300/34824568.jpg'},\n",
       " {'title': 'Actresses who gave real-life Barbie energy',\n",
       "  'img': 'https://static.toiimg.com/thumb/msid-34824568,height-169,width-300/34824568.jpg'},\n",
       " {'title': 'Bhumi Pednekar on pay disparity, sexism',\n",
       "  'img': 'https://static.toiimg.com/thumb/msid-34824568,height-169,width-300/34824568.jpg'}]"
      ]
     },
     "execution_count": 28,
     "metadata": {},
     "output_type": "execute_result"
    }
   ],
   "source": [
    "scr.get_all(target, items, title=title,img=imgurl)"
   ]
  },
  {
   "cell_type": "markdown",
   "metadata": {},
   "source": [
    "laptops"
   ]
  },
  {
   "cell_type": "code",
   "execution_count": 33,
   "metadata": {},
   "outputs": [
    {
     "data": {
      "text/plain": [
       "[{'title': 'HP Victus Gaming Ryzen 5 Hexa Core 5600H - (8 GB/512 GB SSD/Windows 11 Home/4 GB Graphics/NVIDIA GeFor...',\n",
       "  'price': '₹52,990',\n",
       "  'num_reviews': '63 Ratings\\xa0&\\xa04 Reviews'},\n",
       " {'title': 'Primebook 4G Android Based MediaTek MT8788 - (4 GB/128 GB EMMC Storage/Prime OS) 4G Thin and Light Lap...',\n",
       "  'price': '₹13,990',\n",
       "  'num_reviews': '268 Ratings\\xa0&\\xa086 Reviews'},\n",
       " {'title': 'ASUS Vivobook 15 Core i3 11th Gen - (8 GB/512 GB SSD/Windows 11 Home) X515EA-EJ322WS | X515EA-EJ328WS ...',\n",
       "  'price': '₹34,990',\n",
       "  'num_reviews': '3,204 Ratings\\xa0&\\xa0291 Reviews'},\n",
       " {'title': 'ASUS TUF Gaming A15 Ryzen 5 Hexa Core AMD R5-4600H - (8 GB/1 TB SSD/Windows 11 Home/4 GB Graphics/NVID...',\n",
       "  'price': '₹50,990',\n",
       "  'num_reviews': '707 Ratings\\xa0&\\xa072 Reviews'},\n",
       " {'title': 'realme Book (Slim) Core i3 11th Gen - (8 GB/256 GB SSD/Windows 10 Home) RMNB1001 Thin and Light Laptop',\n",
       "  'price': '₹32,990',\n",
       "  'num_reviews': '14,096 Ratings\\xa0&\\xa02,034 Reviews'},\n",
       " {'title': 'HP 15s (2023) Athlon Dual Core 3050U - (8 GB/512 GB SSD/Windows 11 Home) 15s-ey1509AU Thin and Light L...',\n",
       "  'price': '₹29,990',\n",
       "  'num_reviews': '1,403 Ratings\\xa0&\\xa0128 Reviews'},\n",
       " {'title': 'Lenovo V15 Ryzen 5 Hexa Core 5500U - (8 GB/512 GB SSD/Windows 11 Home) V15 G2 ALC Thin and Light Lapto...',\n",
       "  'price': '₹34,990',\n",
       "  'num_reviews': '100 Ratings\\xa0&\\xa015 Reviews'},\n",
       " {'title': 'Primebook 4G Android Based MediaTek MT8788 - (4 GB/64 GB EMMC Storage/Prime OS) 4G Thin and Light Lapt...',\n",
       "  'price': '₹12,990',\n",
       "  'num_reviews': '1,078 Ratings\\xa0&\\xa0347 Reviews'},\n",
       " {'title': 'HP 247 G8 Athlon Dual Core - (8 GB/1 TB HDD/Windows 11 Home) 247 G8 Notebook Notebook',\n",
       "  'price': '₹22,290',\n",
       "  'num_reviews': '251 Ratings\\xa0&\\xa027 Reviews'},\n",
       " {'title': 'HP 15s (2023) Intel Core i3 12th Gen - (8 GB/512 GB SSD/Windows 11 Home) 15s-fy5003TU Thin and Light L...',\n",
       "  'price': '₹39,990',\n",
       "  'num_reviews': '137 Ratings\\xa0&\\xa012 Reviews'},\n",
       " {'title': 'HP Chromebook MediaTek Kompanio 500 - (4 GB/64 GB EMMC Storage/Chrome OS) 11a-na0004MU Chromebook',\n",
       "  'price': '₹16,990',\n",
       "  'num_reviews': '6,422 Ratings\\xa0&\\xa0717 Reviews'},\n",
       " {'title': 'Infinix Y1 Plus Neo (2023) Celeron Quad Core 11th Gen - (4 GB/128 GB SSD/Windows 11 Home) XL30 Thin an...',\n",
       "  'price': '₹20,990',\n",
       "  'num_reviews': '660 Ratings\\xa0&\\xa0108 Reviews'},\n",
       " {'title': 'MSI Bravo 15 Ryzen 7 Octa Core 5800H - (8 GB/512 GB SSD/Windows 11 Home/4 GB Graphics/AMD Radeon RX650...',\n",
       "  'price': '₹55,990',\n",
       "  'num_reviews': '221 Ratings\\xa0&\\xa036 Reviews'},\n",
       " {'title': 'ASUS Vivobook 15 Core i5 11th Gen - (8 GB/512 GB SSD/Windows 11 Home) X515EA-EJ522WS Thin and Light La...',\n",
       "  'price': '₹42,990',\n",
       "  'num_reviews': '1,853 Ratings\\xa0&\\xa0149 Reviews'},\n",
       " {'title': 'HP 15s (2023) Intel Core i5 11th Gen - (16 GB/512 GB SSD/Windows 11 Home) 15s-fr4001TU Thin and Light ...',\n",
       "  'price': '₹52,990',\n",
       "  'num_reviews': '763 Ratings\\xa0&\\xa051 Reviews'},\n",
       " {'title': 'DELL Inspiron Core i3 11th Gen - (8 GB/512 GB SSD/Windows 11 Home) Inspiron 3511 Thin and Light Laptop',\n",
       "  'price': '₹37,990',\n",
       "  'num_reviews': '616 Ratings\\xa0&\\xa098 Reviews'},\n",
       " {'title': 'HP OMEN Core i5 - (16 GB/512 GB SSD/Windows 11 Home/6 GB Graphics/NVIDIA GeForce RTX 4050) 16-wd0880TX...',\n",
       "  'price': '₹1,04,990',\n",
       "  'num_reviews': None},\n",
       " {'title': 'CHUWI Celeron Dual Core 10th Gen - (8 GB/256 GB SSD/Windows 10 Home) HeroBook Pro Laptop',\n",
       "  'price': '₹19,990',\n",
       "  'num_reviews': None},\n",
       " {'title': 'Lenovo Intel Celeron Dual Core - (8 GB/256 GB SSD/Windows 11 Home) 15IGL05 Laptop',\n",
       "  'price': '₹25,999',\n",
       "  'num_reviews': '1,557 Ratings\\xa0&\\xa0155 Reviews'},\n",
       " {'title': 'APPLE 2020 Macbook Air M1 - (8 GB/256 GB SSD/Mac OS Big Sur) MGN63HN/A',\n",
       "  'price': '₹81,990',\n",
       "  'num_reviews': '10,658 Ratings\\xa0&\\xa0930 Reviews'},\n",
       " {'title': 'HP 14s Intel Core i3 11th Gen - (8 GB/256 GB SSD/Windows 11 Home) 14s - dy2507TU Thin and Light Laptop',\n",
       "  'price': '₹34,990',\n",
       "  'num_reviews': '3,128 Ratings\\xa0&\\xa0267 Reviews'},\n",
       " {'title': 'Infinix ZEROBOOK 13 Intel Core i5 13th Gen - (16 GB/512 GB SSD/Windows 11 Home) ZL513 Thin and Light L...',\n",
       "  'price': '₹51,990',\n",
       "  'num_reviews': None},\n",
       " {'title': 'HP Intel Core i5 11th Gen - (8 GB/512 GB SSD/Windows 11 Home) 15s- fr4000TU Thin and Light Laptop',\n",
       "  'price': '₹49,990',\n",
       "  'num_reviews': '763 Ratings\\xa0&\\xa051 Reviews'},\n",
       " {'title': 'Infinix Y1 Plus Neo Intel Celeron Quad Core 11th Gen - (8 GB/256 GB SSD/Windows 11 Home) XL30 Thin and...',\n",
       "  'price': '₹23,490',\n",
       "  'num_reviews': '903 Ratings\\xa0&\\xa0134 Reviews'},\n",
       " {'title': None, 'price': None, 'num_reviews': None},\n",
       " {'title': None, 'price': None, 'num_reviews': None}]"
      ]
     },
     "execution_count": 33,
     "metadata": {},
     "output_type": "execute_result"
    }
   ],
   "source": [
    "url = 'https://www.flipkart.com/search?q=laptop&otracker=search&otracker1=search&marketplace=FLIPKART&as-show=on&as=off'-\n",
    "target = Tag(cls='_1YokD2 _3Mn1Gg')\n",
    "items = Tag(cls='_1AtVbE col-12-12')\n",
    "title = Tag(cls='_4rR01T')\n",
    "price = Tag(cls='_30jeq3 _1_WHN1')\n",
    "num_reviews = Tag('span', cls='_2_R_DZ')\n",
    "\n",
    "scr = Scraper(url)\n",
    "result = scr.get_all(target, items, title=title, price=price, num_reviews=num_reviews,)\n",
    "result"
   ]
  },
  {
   "cell_type": "code",
   "execution_count": 36,
   "metadata": {},
   "outputs": [],
   "source": [
    "# sqlalchemy\n",
    "from sqlalchemy import create_engine\n",
    "from sqlalchemy.orm import declarative_base\n",
    "from sqlalchemy import Column, Integer, String # ORM tables\n",
    "from sqlalchemy.orm import sessionmaker # ORM"
   ]
  },
  {
   "cell_type": "code",
   "execution_count": 40,
   "metadata": {},
   "outputs": [],
   "source": [
    "Base = declarative_base() # base class for ORM tables\n",
    "class Product(Base):\n",
    "    __tablename__ = 'products'\n",
    "    id = Column(Integer, primary_key=True)\n",
    "    title = Column(String)\n",
    "    price = Column(String)\n",
    "    num_reviews = Column(String)\n",
    "\n",
    "\n",
    "# create sqlite database and table\n",
    "db_url = 'sqlite:///scrapy.sqlite'\n",
    "engine = create_engine(db_url)\n",
    "Base.metadata.create_all(engine)"
   ]
  },
  {
   "cell_type": "code",
   "execution_count": 43,
   "metadata": {},
   "outputs": [],
   "source": [
    "db = sessionmaker(bind=engine)() # create a session - open db\n",
    "for entry in result:\n",
    "    p = Product(title=entry['title'], \n",
    "                price=entry['price'], \n",
    "                num_reviews=entry['num_reviews'])\n",
    "    db.add(p) # add a row to product table in the database\n",
    "db.commit() # save changes\n",
    "db.close() # close db"
   ]
  },
  {
   "cell_type": "code",
   "execution_count": 47,
   "metadata": {},
   "outputs": [
    {
     "name": "stdout",
     "output_type": "stream",
     "text": [
      "HP Victus Gaming Ryzen 5 Hexa Core 5600H - (8 GB/512 GB SSD/Windows 11 Home/4 GB Graphics/NVIDIA GeFor...\n",
      "Primebook 4G Android Based MediaTek MT8788 - (4 GB/128 GB EMMC Storage/Prime OS) 4G Thin and Light Lap...\n",
      "ASUS Vivobook 15 Core i3 11th Gen - (8 GB/512 GB SSD/Windows 11 Home) X515EA-EJ322WS | X515EA-EJ328WS ...\n",
      "ASUS TUF Gaming A15 Ryzen 5 Hexa Core AMD R5-4600H - (8 GB/1 TB SSD/Windows 11 Home/4 GB Graphics/NVID...\n",
      "realme Book (Slim) Core i3 11th Gen - (8 GB/256 GB SSD/Windows 10 Home) RMNB1001 Thin and Light Laptop\n",
      "HP 15s (2023) Athlon Dual Core 3050U - (8 GB/512 GB SSD/Windows 11 Home) 15s-ey1509AU Thin and Light L...\n",
      "Lenovo V15 Ryzen 5 Hexa Core 5500U - (8 GB/512 GB SSD/Windows 11 Home) V15 G2 ALC Thin and Light Lapto...\n",
      "Primebook 4G Android Based MediaTek MT8788 - (4 GB/64 GB EMMC Storage/Prime OS) 4G Thin and Light Lapt...\n",
      "HP 247 G8 Athlon Dual Core - (8 GB/1 TB HDD/Windows 11 Home) 247 G8 Notebook Notebook\n",
      "HP 15s (2023) Intel Core i3 12th Gen - (8 GB/512 GB SSD/Windows 11 Home) 15s-fy5003TU Thin and Light L...\n",
      "HP Chromebook MediaTek Kompanio 500 - (4 GB/64 GB EMMC Storage/Chrome OS) 11a-na0004MU Chromebook\n",
      "Infinix Y1 Plus Neo (2023) Celeron Quad Core 11th Gen - (4 GB/128 GB SSD/Windows 11 Home) XL30 Thin an...\n",
      "MSI Bravo 15 Ryzen 7 Octa Core 5800H - (8 GB/512 GB SSD/Windows 11 Home/4 GB Graphics/AMD Radeon RX650...\n",
      "ASUS Vivobook 15 Core i5 11th Gen - (8 GB/512 GB SSD/Windows 11 Home) X515EA-EJ522WS Thin and Light La...\n",
      "HP 15s (2023) Intel Core i5 11th Gen - (16 GB/512 GB SSD/Windows 11 Home) 15s-fr4001TU Thin and Light ...\n",
      "DELL Inspiron Core i3 11th Gen - (8 GB/512 GB SSD/Windows 11 Home) Inspiron 3511 Thin and Light Laptop\n",
      "HP OMEN Core i5 - (16 GB/512 GB SSD/Windows 11 Home/6 GB Graphics/NVIDIA GeForce RTX 4050) 16-wd0880TX...\n",
      "CHUWI Celeron Dual Core 10th Gen - (8 GB/256 GB SSD/Windows 10 Home) HeroBook Pro Laptop\n",
      "Lenovo Intel Celeron Dual Core - (8 GB/256 GB SSD/Windows 11 Home) 15IGL05 Laptop\n",
      "APPLE 2020 Macbook Air M1 - (8 GB/256 GB SSD/Mac OS Big Sur) MGN63HN/A\n",
      "HP 14s Intel Core i3 11th Gen - (8 GB/256 GB SSD/Windows 11 Home) 14s - dy2507TU Thin and Light Laptop\n",
      "Infinix ZEROBOOK 13 Intel Core i5 13th Gen - (16 GB/512 GB SSD/Windows 11 Home) ZL513 Thin and Light L...\n",
      "HP Intel Core i5 11th Gen - (8 GB/512 GB SSD/Windows 11 Home) 15s- fr4000TU Thin and Light Laptop\n",
      "Infinix Y1 Plus Neo Intel Celeron Quad Core 11th Gen - (8 GB/256 GB SSD/Windows 11 Home) XL30 Thin and...\n",
      "None\n",
      "None\n"
     ]
    }
   ],
   "source": [
    "db = sessionmaker(bind=engine)() # create a session - open db\n",
    "for row in db.query(Product).all(): # query all rows from product table\n",
    "    print(row.title)\n",
    "db.close() # close db"
   ]
  },
  {
   "cell_type": "code",
   "execution_count": null,
   "metadata": {},
   "outputs": [],
   "source": []
  }
 ],
 "metadata": {
  "kernelspec": {
   "display_name": "base",
   "language": "python",
   "name": "python3"
  },
  "language_info": {
   "codemirror_mode": {
    "name": "ipython",
    "version": 3
   },
   "file_extension": ".py",
   "mimetype": "text/x-python",
   "name": "python",
   "nbconvert_exporter": "python",
   "pygments_lexer": "ipython3",
   "version": "3.10.11"
  },
  "orig_nbformat": 4
 },
 "nbformat": 4,
 "nbformat_minor": 2
}
