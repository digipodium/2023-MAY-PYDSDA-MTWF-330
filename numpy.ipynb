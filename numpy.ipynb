{
 "cells": [
  {
   "cell_type": "code",
   "execution_count": null,
   "metadata": {},
   "outputs": [],
   "source": [
    "import numpy as np"
   ]
  },
  {
   "cell_type": "code",
   "execution_count": null,
   "metadata": {},
   "outputs": [],
   "source": [
    "x = np.array([1, 2, 3])"
   ]
  },
  {
   "cell_type": "code",
   "execution_count": null,
   "metadata": {},
   "outputs": [],
   "source": [
    "y = np.array([4, 5, 6])"
   ]
  },
  {
   "cell_type": "code",
   "execution_count": null,
   "metadata": {},
   "outputs": [],
   "source": [
    "print(x + y)"
   ]
  },
  {
   "cell_type": "code",
   "execution_count": null,
   "metadata": {},
   "outputs": [],
   "source": [
    "a = np.array([[1, 2, 3], [4, 5, 6]])\n",
    "b = np.array([[1, 2, 4], [2, 5, 6]])\n",
    "print(a)\n",
    "print(b)"
   ]
  },
  {
   "cell_type": "code",
   "execution_count": null,
   "metadata": {},
   "outputs": [],
   "source": [
    "print(a * b)"
   ]
  },
  {
   "cell_type": "code",
   "execution_count": null,
   "metadata": {},
   "outputs": [],
   "source": [
    "np.arange(100)"
   ]
  },
  {
   "cell_type": "code",
   "execution_count": null,
   "metadata": {},
   "outputs": [],
   "source": [
    "t = np.arange(-np.pi, np.pi, 0.05)\n",
    "print(t)\n",
    "print(t.size)"
   ]
  },
  {
   "cell_type": "code",
   "execution_count": null,
   "metadata": {},
   "outputs": [],
   "source": [
    "x = np.sin(t)\n",
    "print(x)"
   ]
  },
  {
   "cell_type": "code",
   "execution_count": null,
   "metadata": {},
   "outputs": [],
   "source": [
    "import matplotlib.pyplot as plt\n",
    "plt.plot(t, x)"
   ]
  },
  {
   "cell_type": "code",
   "execution_count": null,
   "metadata": {},
   "outputs": [],
   "source": [
    "t2 =np.linspace(1, 2, 100)\n",
    "print(t2)"
   ]
  },
  {
   "cell_type": "code",
   "execution_count": null,
   "metadata": {},
   "outputs": [],
   "source": [
    "np.linspace(1,10,4)"
   ]
  },
  {
   "cell_type": "code",
   "execution_count": null,
   "metadata": {},
   "outputs": [],
   "source": [
    "n5 = np.arange(1, 50, 2).reshape(5, 5)\n",
    "print(n5)"
   ]
  },
  {
   "cell_type": "code",
   "execution_count": null,
   "metadata": {},
   "outputs": [],
   "source": [
    "n6 = np.linspace(1,100,30).reshape(15, 2)\n",
    "print(n6)"
   ]
  },
  {
   "cell_type": "code",
   "execution_count": null,
   "metadata": {},
   "outputs": [],
   "source": [
    "# 30 = 30 elements [1d]\n",
    "# 6 x 5 = 30 elements [2d]\n",
    "# 3 x 10 = 30 elements  \n",
    "# 2 x 15 = 30 elements\n",
    "# 5 x 6 = 30 elements\n",
    "# 10 x 3 = 30 elements\n",
    "# 15 x 2 = 30 elements\n",
    "# 30 x 1 = 30 elements\n",
    "# 3 x 5 x 2 = 30 elements [3d]\n",
    "# 5 x 3 x 2 = 30 elements [3d]\n"
   ]
  },
  {
   "cell_type": "code",
   "execution_count": null,
   "metadata": {},
   "outputs": [],
   "source": [
    "np.random.randint(10000, 99999, 10)"
   ]
  },
  {
   "cell_type": "code",
   "execution_count": null,
   "metadata": {},
   "outputs": [],
   "source": [
    "ne = np.random.randint(0,9, (3, 3))\n",
    "print(ne)"
   ]
  },
  {
   "cell_type": "code",
   "execution_count": 53,
   "metadata": {},
   "outputs": [
    {
     "data": {
      "text/plain": [
       "array([[40, 76, 26,  3, 19, 14, 27,  1, 35, 63],\n",
       "       [58, 43, 83, 74, 60, 36,  0, 64, 99, 52],\n",
       "       [ 6, 65, 97, 28, 33, 72, 18, 16, 78, 95],\n",
       "       [70,  2, 84, 96, 85, 39, 77, 66, 31, 21],\n",
       "       [55, 24, 17, 41, 12, 90, 53, 91, 50, 88],\n",
       "       [ 9, 92, 51, 11, 73, 87, 67, 30, 22,  8],\n",
       "       [69, 20, 86, 98, 46, 32, 49, 59, 38, 10],\n",
       "       [23, 54, 44, 37,  4, 25, 42, 48, 34, 89],\n",
       "       [47, 68, 57, 15, 75,  5, 29, 45, 13, 79],\n",
       "       [56, 94, 80, 81, 61, 62, 71, 82,  7, 93]])"
      ]
     },
     "execution_count": 53,
     "metadata": {},
     "output_type": "execute_result"
    }
   ],
   "source": [
    "# permutation\n",
    "np.random.permutation(100).reshape(10, 10)"
   ]
  },
  {
   "cell_type": "code",
   "execution_count": null,
   "metadata": {},
   "outputs": [],
   "source": [
    "np.eye(10, dtype=int)"
   ]
  },
  {
   "cell_type": "code",
   "execution_count": 58,
   "metadata": {},
   "outputs": [
    {
     "name": "stdout",
     "output_type": "stream",
     "text": [
      "[5 7 9]\n",
      "[-3 -3 -3]\n",
      "[ 4 10 18]\n",
      "[0.25 0.4  0.5 ]\n",
      "[  1  32 729]\n",
      "[1 2 3]\n",
      "[0 0 0]\n",
      "32\n",
      "[-3  6 -3]\n",
      "32\n",
      "[[ 4  5  6]\n",
      " [ 8 10 12]\n",
      " [12 15 18]]\n",
      "32\n",
      "36\n",
      "4.5\n",
      "2.29128784747792\n",
      "5.25\n",
      "1\n",
      "8\n",
      "0\n",
      "7\n",
      "[ 1  3  6 10 15 21 28 36]\n",
      "[    1     2     6    24   120   720  5040 40320]\n"
     ]
    }
   ],
   "source": [
    "# numpy maths\n",
    "x = np.array([1, 2, 3])\n",
    "y = np.array([4, 5, 6])\n",
    "\n",
    "print(x + y) # add\n",
    "print(x - y) # subtract\n",
    "print(x * y) # multiply elementwise\n",
    "print(x / y) # divide\n",
    "print(x ** y) # power\n",
    "print(x % y) # modulus\n",
    "print(x // y) # floor division\n",
    "\n",
    "# dot product\n",
    "print(np.dot(x, y))\n",
    "# cross product\n",
    "print(np.cross(x, y))\n",
    "# inner product\n",
    "print(np.inner(x, y))\n",
    "# outer product\n",
    "print(np.outer(x, y))\n",
    "# matrix multiplication\n",
    "print(np.matmul(x, y))\n",
    "\n",
    "# numpy statistics\n",
    "x = np.array([1, 2, 3, 4, 5, 6, 7, 8])\n",
    "print(x.sum()) # sum\n",
    "print(x.mean()) # mean\n",
    "print(x.std()) # standard deviation\n",
    "print(x.var()) # variance\n",
    "print(x.min()) # minimum\n",
    "print(x.max()) # maximum\n",
    "print(x.argmin()) # index of minimum\n",
    "print(x.argmax()) # index of maximum\n",
    "print(x.cumsum()) # cumulative sum\n",
    "print(x.cumprod()) # cumulative product"
   ]
  },
  {
   "cell_type": "code",
   "execution_count": 67,
   "metadata": {},
   "outputs": [
    {
     "name": "stdout",
     "output_type": "stream",
     "text": [
      "[ 0.         -0.98803162  0.85090352 -0.30481062  0.89399666]\n",
      "[ 1.          0.15425145  0.52532199 -0.95241298 -0.44807362]\n",
      "[ 0.         -6.4053312   1.61977519  0.32004039 -1.99520041]\n",
      "[0.         0.52359878 0.78539816 1.04719755 1.57079633]\n"
     ]
    }
   ],
   "source": [
    "# trigonometry  \n",
    "x = np.array([0, 30, 45, 60, 90])\n",
    "print(np.sin(x))\n",
    "print(np.cos(x))\n",
    "print(np.tan(x))\n",
    "print(np.deg2rad(x))"
   ]
  },
  {
   "cell_type": "code",
   "execution_count": 68,
   "metadata": {},
   "outputs": [
    {
     "name": "stdout",
     "output_type": "stream",
     "text": [
      "[[ 0  1  2  3  4  5  6  7  8  9]\n",
      " [10 11 12 13 14 15 16 17 18 19]\n",
      " [20 21 22 23 24 25 26 27 28 29]\n",
      " [30 31 32 33 34 35 36 37 38 39]\n",
      " [40 41 42 43 44 45 46 47 48 49]\n",
      " [50 51 52 53 54 55 56 57 58 59]\n",
      " [60 61 62 63 64 65 66 67 68 69]\n",
      " [70 71 72 73 74 75 76 77 78 79]\n",
      " [80 81 82 83 84 85 86 87 88 89]\n",
      " [90 91 92 93 94 95 96 97 98 99]]\n"
     ]
    }
   ],
   "source": [
    "# 10 x 10 matrix\n",
    "x = np.arange(100).reshape(10, 10)\n",
    "print(x)"
   ]
  },
  {
   "attachments": {},
   "cell_type": "markdown",
   "metadata": {},
   "source": [
    "### slicing syntax for 1d array \n",
    "```\n",
    "array[start:stop:step]\n",
    "```\n",
    "### slicing syntax for 2d array \n",
    "```\n",
    "array[start:stop:step, start:stop:step]\n",
    "```"
   ]
  },
  {
   "cell_type": "code",
   "execution_count": 71,
   "metadata": {},
   "outputs": [
    {
     "name": "stdout",
     "output_type": "stream",
     "text": [
      "[0 1 2 3 4 5 6 7 8 9]\n",
      "35\n",
      "[ 0 10 20 30 40 50 60 70 80 90]\n",
      "[ 9 19 29]\n",
      "[[ 0  1  2]\n",
      " [10 11 12]\n",
      " [20 21 22]]\n",
      "[[ 2  4  6]\n",
      " [12 14 16]\n",
      " [22 24 26]\n",
      " [32 34 36]\n",
      " [42 44 46]\n",
      " [52 54 56]\n",
      " [62 64 66]\n",
      " [72 74 76]\n",
      " [82 84 86]\n",
      " [92 94 96]]\n"
     ]
    }
   ],
   "source": [
    "print(x[0]) # first row\n",
    "print(x[3, 5]) # element at row 3, column 5\n",
    "print(x[:, 0]) # first column\n",
    "print(x[:3, -1]) # first 3 rows, last column\n",
    "print(x[:3, :3]) # first 3 rows, first 3 columns\n",
    "print(x[:, [2, 4, 6]]) # columns 2, 4, 6"
   ]
  },
  {
   "cell_type": "code",
   "execution_count": 73,
   "metadata": {},
   "outputs": [
    {
     "data": {
      "text/plain": [
       "nan"
      ]
     },
     "execution_count": 73,
     "metadata": {},
     "output_type": "execute_result"
    }
   ],
   "source": [
    "np.nan # not a number (missing value)"
   ]
  },
  {
   "cell_type": "code",
   "execution_count": 74,
   "metadata": {},
   "outputs": [
    {
     "data": {
      "text/plain": [
       "inf"
      ]
     },
     "execution_count": 74,
     "metadata": {},
     "output_type": "execute_result"
    }
   ],
   "source": [
    "np.inf # infinity"
   ]
  }
 ],
 "metadata": {
  "kernelspec": {
   "display_name": "base",
   "language": "python",
   "name": "python3"
  },
  "language_info": {
   "codemirror_mode": {
    "name": "ipython",
    "version": 3
   },
   "file_extension": ".py",
   "mimetype": "text/x-python",
   "name": "python",
   "nbconvert_exporter": "python",
   "pygments_lexer": "ipython3",
   "version": "3.10.11"
  },
  "orig_nbformat": 4
 },
 "nbformat": 4,
 "nbformat_minor": 2
}
