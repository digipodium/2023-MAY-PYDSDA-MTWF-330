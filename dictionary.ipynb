{
 "cells": [
  {
   "cell_type": "code",
   "execution_count": 8,
   "metadata": {},
   "outputs": [],
   "source": [
    "students = {\n",
    "    'Maulik' : {\n",
    "        'college':'MU',\n",
    "        'type':'offline'\n",
    "    },\n",
    "    'Aman' : 'NPGC',\n",
    "    'Abhay': 'NPGC',\n",
    "    'Mazahir': 'AU',\n",
    "    'Imadul': 'IU',\n",
    "    'Prashutosh': 'SHUATS',\n",
    "    'Shoeb': {\n",
    "        'college': 'IET',\n",
    "        'type':'online'\n",
    "    },\n",
    "    'Mandavi': {\n",
    "        'college':'HNBGU',\n",
    "        'type':'online'\n",
    "    }\n",
    "}"
   ]
  },
  {
   "cell_type": "code",
   "execution_count": 9,
   "metadata": {},
   "outputs": [],
   "source": [
    "from pprint import pp"
   ]
  },
  {
   "cell_type": "code",
   "execution_count": 11,
   "metadata": {},
   "outputs": [
    {
     "name": "stdout",
     "output_type": "stream",
     "text": [
      "{'Maulik': {'college': 'MU', 'type': 'offline'},\n",
      " 'Aman': 'NPGC',\n",
      " 'Abhay': 'NPGC',\n",
      " 'Mazahir': 'AU',\n",
      " 'Imadul': 'IU',\n",
      " 'Prashutosh': 'SHUATS',\n",
      " 'Shoeb': {'college': 'IET', 'type': 'online'},\n",
      " 'Mandavi': {'college': 'HNBGU', 'type': 'online'}}\n"
     ]
    }
   ],
   "source": [
    "pp(students)"
   ]
  },
  {
   "cell_type": "code",
   "execution_count": 26,
   "metadata": {},
   "outputs": [
    {
     "data": {
      "text/plain": [
       "'online'"
      ]
     },
     "execution_count": 26,
     "metadata": {},
     "output_type": "execute_result"
    }
   ],
   "source": [
    "students['Mandavi']['type']"
   ]
  },
  {
   "cell_type": "code",
   "execution_count": 14,
   "metadata": {},
   "outputs": [],
   "source": [
    "students['Shreya'] = {\n",
    "    'college': 'BBDU',\n",
    "    'type':'online'\n",
    "}"
   ]
  },
  {
   "cell_type": "code",
   "execution_count": 24,
   "metadata": {},
   "outputs": [
    {
     "name": "stdout",
     "output_type": "stream",
     "text": [
      "{'Maulik': {'college': 'MU', 'type': 'offline'},\n",
      " 'Aman': 'NPGC',\n",
      " 'Abhay': 'NPGC',\n",
      " 'Mazahir': 'AU',\n",
      " 'Imadul': 'IU',\n",
      " 'Prashutosh': 'SHUATS',\n",
      " 'Shoeb': {'college': 'IET', 'type': 'online'},\n",
      " 'Mandavi': {'college': 'HNBGU', 'type': 'online'},\n",
      " 'Shreya': {'college': 'BBDU', 'type': 'online'}}\n"
     ]
    }
   ],
   "source": [
    "pp(students)"
   ]
  },
  {
   "cell_type": "code",
   "execution_count": 28,
   "metadata": {},
   "outputs": [
    {
     "name": "stdout",
     "output_type": "stream",
     "text": [
      "{'Maulik': {'college': 'MU', 'type': 'offline'},\n",
      " 'Aman': 'NPGC',\n",
      " 'Abhay': 'NPGC',\n",
      " 'Mazahir': 'AU',\n",
      " 'Imadul': 'IU',\n",
      " 'Prashutosh': 'SHUATS',\n",
      " 'Shoeb': {'college': 'IET', 'type': 'flexi'},\n",
      " 'Mandavi': {'college': 'HNBGU', 'type': 'online'},\n",
      " 'Shreya': {'college': 'BBDU', 'type': 'online'}}\n"
     ]
    }
   ],
   "source": [
    "students['Shoeb']['type'] = 'flexi'\n",
    "pp(students)"
   ]
  },
  {
   "cell_type": "code",
   "execution_count": 30,
   "metadata": {},
   "outputs": [
    {
     "data": {
      "text/plain": [
       "'NPGC'"
      ]
     },
     "execution_count": 30,
     "metadata": {},
     "output_type": "execute_result"
    }
   ],
   "source": [
    "students.pop('Abhay')"
   ]
  },
  {
   "cell_type": "code",
   "execution_count": 31,
   "metadata": {},
   "outputs": [
    {
     "name": "stdout",
     "output_type": "stream",
     "text": [
      "{'Maulik': {'college': 'MU', 'type': 'offline'},\n",
      " 'Aman': 'NPGC',\n",
      " 'Mazahir': 'AU',\n",
      " 'Imadul': 'IU',\n",
      " 'Prashutosh': 'SHUATS',\n",
      " 'Shoeb': {'college': 'IET', 'type': 'flexi'},\n",
      " 'Mandavi': {'college': 'HNBGU', 'type': 'online'},\n",
      " 'Shreya': {'college': 'BBDU', 'type': 'online'}}\n"
     ]
    }
   ],
   "source": [
    "pp(students)"
   ]
  },
  {
   "cell_type": "code",
   "execution_count": 1,
   "metadata": {},
   "outputs": [],
   "source": [
    "report = {\n",
    "    'class10': {\n",
    "        'rohan': {\n",
    "            'english': 90,\n",
    "            'maths': 95,\n",
    "            'hindi': 85,\n",
    "            'science': 95,\n",
    "            'social': 95,\n",
    "            'p.e.': 95,\n",
    "        },\n",
    "        'mohit': {\n",
    "            'english': 50,\n",
    "            'maths': 55,\n",
    "            'hindi': 45,\n",
    "            'science': 55,\n",
    "            'social': 55,\n",
    "            'p.e.': 95,\n",
    "        },\n",
    "        'shreya': {\n",
    "            'english': 72,\n",
    "            'maths': 75,\n",
    "            'hindi': 65,\n",
    "            'science': 75,\n",
    "            'social': 75,\n",
    "            'p.e.': 75,\n",
    "        },\n",
    "        'shubham': {\n",
    "            'english': 82,\n",
    "            'maths': 85,\n",
    "            'hindi': 75,\n",
    "            'science': 85,\n",
    "            'social': 85,\n",
    "            'p.e.': 85,\n",
    "        },\n",
    "        'shruti': {\n",
    "            'english': 92,\n",
    "            'maths': 55,\n",
    "            'hindi': 85,\n",
    "            'science': 65,\n",
    "            'social': 95,\n",
    "            'p.e.': 95,\n",
    "        },   \n",
    "        'alex':{\n",
    "            'english': 92,\n",
    "            'maths': 55,\n",
    "            'hindi': 82,\n",
    "            'science': 61,\n",
    "            'social': 95,\n",
    "            'p.e.': 95,\n",
    "        },     \n",
    "    }\n",
    "}"
   ]
  },
  {
   "cell_type": "code",
   "execution_count": 33,
   "metadata": {},
   "outputs": [
    {
     "name": "stdout",
     "output_type": "stream",
     "text": [
      "{'class10': {'rohan': {'english': 90,\n",
      "                       'maths': 95,\n",
      "                       'hindi': 85,\n",
      "                       'science': 95,\n",
      "                       'social': 95,\n",
      "                       'p.e.': 95},\n",
      "             'mohit': {'english': 50,\n",
      "                       'maths': 55,\n",
      "                       'hindi': 45,\n",
      "                       'science': 55,\n",
      "                       'social': 55,\n",
      "                       'p.e.': 95},\n",
      "             'shreya': {'english': 72,\n",
      "                        'maths': 75,\n",
      "                        'hindi': 65,\n",
      "                        'science': 75,\n",
      "                        'social': 75,\n",
      "                        'p.e.': 75},\n",
      "             'shubham': {'english': 82,\n",
      "                         'maths': 85,\n",
      "                         'hindi': 75,\n",
      "                         'science': 85,\n",
      "                         'social': 85,\n",
      "                         'p.e.': 85},\n",
      "             'shruti': {'english': 92,\n",
      "                        'maths': 55,\n",
      "                        'hindi': 85,\n",
      "                        'science': 65,\n",
      "                        'social': 95,\n",
      "                        'p.e.': 95},\n",
      "             'alex': {'english': 92,\n",
      "                      'maths': 55,\n",
      "                      'hindi': 82,\n",
      "                      'science': 61,\n",
      "                      'social': 95,\n",
      "                      'p.e.': 95}}}\n"
     ]
    }
   ],
   "source": [
    "pp(report)"
   ]
  },
  {
   "cell_type": "code",
   "execution_count": 2,
   "metadata": {},
   "outputs": [
    {
     "name": "stdout",
     "output_type": "stream",
     "text": [
      "dict_keys(['class10'])\n"
     ]
    }
   ],
   "source": [
    "print(report.keys())"
   ]
  },
  {
   "cell_type": "code",
   "execution_count": 3,
   "metadata": {},
   "outputs": [
    {
     "data": {
      "text/plain": [
       "dict_keys(['rohan', 'mohit', 'shreya', 'shubham', 'shruti', 'alex'])"
      ]
     },
     "execution_count": 3,
     "metadata": {},
     "output_type": "execute_result"
    }
   ],
   "source": [
    "report['class10'].keys()"
   ]
  },
  {
   "cell_type": "code",
   "execution_count": 4,
   "metadata": {},
   "outputs": [
    {
     "data": {
      "text/plain": [
       "dict_keys(['english', 'maths', 'hindi', 'science', 'social', 'p.e.'])"
      ]
     },
     "execution_count": 4,
     "metadata": {},
     "output_type": "execute_result"
    }
   ],
   "source": [
    "report['class10']['rohan'].keys()"
   ]
  },
  {
   "cell_type": "code",
   "execution_count": 6,
   "metadata": {},
   "outputs": [
    {
     "data": {
      "text/plain": [
       "90"
      ]
     },
     "execution_count": 6,
     "metadata": {},
     "output_type": "execute_result"
    }
   ],
   "source": [
    "report['class10']['rohan']['english']"
   ]
  },
  {
   "cell_type": "code",
   "execution_count": 7,
   "metadata": {},
   "outputs": [
    {
     "data": {
      "text/plain": [
       "dict_values([{'rohan': {'english': 90, 'maths': 95, 'hindi': 85, 'science': 95, 'social': 95, 'p.e.': 95}, 'mohit': {'english': 50, 'maths': 55, 'hindi': 45, 'science': 55, 'social': 55, 'p.e.': 95}, 'shreya': {'english': 72, 'maths': 75, 'hindi': 65, 'science': 75, 'social': 75, 'p.e.': 75}, 'shubham': {'english': 82, 'maths': 85, 'hindi': 75, 'science': 85, 'social': 85, 'p.e.': 85}, 'shruti': {'english': 92, 'maths': 55, 'hindi': 85, 'science': 65, 'social': 95, 'p.e.': 95}, 'alex': {'english': 92, 'maths': 55, 'hindi': 82, 'science': 61, 'social': 95, 'p.e.': 95}}])"
      ]
     },
     "execution_count": 7,
     "metadata": {},
     "output_type": "execute_result"
    }
   ],
   "source": [
    "report.values()"
   ]
  },
  {
   "cell_type": "code",
   "execution_count": 11,
   "metadata": {},
   "outputs": [
    {
     "name": "stdout",
     "output_type": "stream",
     "text": [
      "dict_values([{'english': 90, 'maths': 95, 'hindi': 85, 'science': 95, 'social': 95, 'p.e.': 95}, {'english': 50, 'maths': 55, 'hindi': 45, 'science': 55, 'social': 55, 'p.e.': 95}, {'english': 72, 'maths': 75, 'hindi': 65, 'science': 75, 'social': 75, 'p.e.': 75}, {'english': 82, 'maths': 85, 'hindi': 75, 'science': 85, 'social': 85, 'p.e.': 85}, {'english': 92, 'maths': 55, 'hindi': 85, 'science': 65, 'social': 95, 'p.e.': 95}, {'english': 92, 'maths': 55, 'hindi': 82, 'science': 61, 'social': 95, 'p.e.': 95}])\n"
     ]
    }
   ],
   "source": [
    "print(report['class10'].values())"
   ]
  },
  {
   "cell_type": "code",
   "execution_count": 13,
   "metadata": {},
   "outputs": [],
   "source": [
    "movies = {\n",
    "    '3 idiots' : 'a story about 3 idiot frds',\n",
    "    'lunchbox' : 'a story about a lunchbox',\n",
    "    'dangal' : 'a story about a wrestler',\n",
    "    'pk' : 'a story about an alien',\n",
    "    'taare zameen par' : 'a story about a dyslexic child',\n",
    "}"
   ]
  },
  {
   "cell_type": "code",
   "execution_count": 14,
   "metadata": {},
   "outputs": [
    {
     "data": {
      "text/plain": [
       "dict_items([('3 idiots', 'a story about 3 idiot frds'), ('lunchbox', 'a story about a lunchbox'), ('dangal', 'a story about a wrestler'), ('pk', 'a story about an alien'), ('taare zameen par', 'a story about a dyslexic child')])"
      ]
     },
     "execution_count": 14,
     "metadata": {},
     "output_type": "execute_result"
    }
   ],
   "source": [
    "movies.items()"
   ]
  },
  {
   "cell_type": "code",
   "execution_count": 21,
   "metadata": {},
   "outputs": [
    {
     "name": "stdout",
     "output_type": "stream",
     "text": [
      "3 idiots              a story about 3 idiot frds\n",
      "lunchbox              a story about a lunchbox\n",
      "dangal                a story about a wrestler\n",
      "pk                    a story about an alien\n",
      "taare zameen par      a story about a dyslexic child\n"
     ]
    }
   ],
   "source": [
    "for k, v in movies.items():\n",
    "    print(f'{k:20}  {v}')"
   ]
  },
  {
   "cell_type": "code",
   "execution_count": 26,
   "metadata": {},
   "outputs": [
    {
     "data": {
      "text/plain": [
       "True"
      ]
     },
     "execution_count": 26,
     "metadata": {},
     "output_type": "execute_result"
    }
   ],
   "source": [
    "isinstance(report['class10'], dict) # verify if the object is a data type"
   ]
  },
  {
   "cell_type": "code",
   "execution_count": 34,
   "metadata": {},
   "outputs": [
    {
     "name": "stdout",
     "output_type": "stream",
     "text": [
      "class10\n",
      "-> rohan\n",
      "  -> english = 90\n",
      "  -> maths = 95\n",
      "  -> hindi = 85\n",
      "  -> science = 95\n",
      "  -> social = 95\n",
      "  -> p.e. = 95\n",
      "-> mohit\n",
      "  -> english = 50\n",
      "  -> maths = 55\n",
      "  -> hindi = 45\n",
      "  -> science = 55\n",
      "  -> social = 55\n",
      "  -> p.e. = 95\n",
      "-> shreya\n",
      "  -> english = 72\n",
      "  -> maths = 75\n",
      "  -> hindi = 65\n",
      "  -> science = 75\n",
      "  -> social = 75\n",
      "  -> p.e. = 75\n",
      "-> shubham\n",
      "  -> english = 82\n",
      "  -> maths = 85\n",
      "  -> hindi = 75\n",
      "  -> science = 85\n",
      "  -> social = 85\n",
      "  -> p.e. = 85\n",
      "-> shruti\n",
      "  -> english = 92\n",
      "  -> maths = 55\n",
      "  -> hindi = 85\n",
      "  -> science = 65\n",
      "  -> social = 95\n",
      "  -> p.e. = 95\n",
      "-> alex\n",
      "  -> english = 92\n",
      "  -> maths = 55\n",
      "  -> hindi = 82\n",
      "  -> science = 61\n",
      "  -> social = 95\n",
      "  -> p.e. = 95\n"
     ]
    }
   ],
   "source": [
    "for cls, students in report.items():\n",
    "    print(cls)\n",
    "    if isinstance(students, dict):\n",
    "        for name, subjects in students.items():\n",
    "            print('->',name)\n",
    "            if isinstance(subjects, dict):\n",
    "                for subject, marks in subjects.items():\n",
    "                    print('  ->',subject,'=', marks)"
   ]
  },
  {
   "cell_type": "code",
   "execution_count": 39,
   "metadata": {},
   "outputs": [
    {
     "name": "stdout",
     "output_type": "stream",
     "text": [
      "class10\n",
      "-> rohan\n",
      "  avg-> 92\n",
      "-> mohit\n",
      "  avg-> 59\n",
      "-> shreya\n",
      "  avg-> 72\n",
      "-> shubham\n",
      "  avg-> 82\n",
      "-> shruti\n",
      "  avg-> 81\n",
      "-> alex\n",
      "  avg-> 80\n"
     ]
    }
   ],
   "source": [
    "for cls, students in report.items():\n",
    "    print(cls)\n",
    "    if isinstance(students, dict):\n",
    "        for name, subjects in students.items():\n",
    "            print('->',name)\n",
    "            if isinstance(subjects, dict):\n",
    "                total = 0 # reset total for each student\n",
    "                for subject, marks in subjects.items():\n",
    "                    total += marks\n",
    "                print('  avg->',total//6)"
   ]
  },
  {
   "cell_type": "code",
   "execution_count": 45,
   "metadata": {},
   "outputs": [
    {
     "name": "stdout",
     "output_type": "stream",
     "text": [
      "class10\n",
      "-> rohan\n",
      "  avg-> 92\n",
      "-> mohit\n",
      "  avg-> 59\n",
      "-> shreya\n",
      "  avg-> 72\n",
      "-> shubham\n",
      "  avg-> 82\n",
      "-> shruti\n",
      "  avg-> 81\n",
      "-> alex\n",
      "  avg-> 80\n"
     ]
    }
   ],
   "source": [
    "for cls, students in report.items():\n",
    "    print(cls)\n",
    "    if isinstance(students, dict):\n",
    "        for name, subjects in students.items():\n",
    "            print('->',name)\n",
    "            if isinstance(subjects, dict):\n",
    "                total = sum(subjects.values())\n",
    "                print('  avg->',total//6)"
   ]
  },
  {
   "cell_type": "code",
   "execution_count": 46,
   "metadata": {},
   "outputs": [
    {
     "name": "stdout",
     "output_type": "stream",
     "text": [
      "class10\n",
      "-> rohan\n",
      "  max-> maths 95\n",
      "-> mohit\n",
      "  max-> p.e. 95\n",
      "-> shreya\n",
      "  max-> maths 75\n",
      "-> shubham\n",
      "  max-> maths 85\n",
      "-> shruti\n",
      "  max-> social 95\n",
      "-> alex\n",
      "  max-> social 95\n"
     ]
    }
   ],
   "source": [
    "for cls, students in report.items():\n",
    "    print(cls)\n",
    "    if isinstance(students, dict):\n",
    "        for name, subjects in students.items():\n",
    "            print('->',name)\n",
    "            if isinstance(subjects, dict):\n",
    "                mm = None\n",
    "                sub = None\n",
    "                for subject, marks in subjects.items():\n",
    "                    if mm is None or mm < marks:\n",
    "                        mm = marks\n",
    "                        sub = subject\n",
    "                print('  max->',sub,mm)"
   ]
  },
  {
   "cell_type": "code",
   "execution_count": null,
   "metadata": {},
   "outputs": [],
   "source": []
  }
 ],
 "metadata": {
  "kernelspec": {
   "display_name": "base",
   "language": "python",
   "name": "python3"
  },
  "language_info": {
   "codemirror_mode": {
    "name": "ipython",
    "version": 3
   },
   "file_extension": ".py",
   "mimetype": "text/x-python",
   "name": "python",
   "nbconvert_exporter": "python",
   "pygments_lexer": "ipython3",
   "version": "3.10.11"
  },
  "orig_nbformat": 4
 },
 "nbformat": 4,
 "nbformat_minor": 2
}
