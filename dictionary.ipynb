{
 "cells": [
  {
   "cell_type": "code",
   "execution_count": 8,
   "metadata": {},
   "outputs": [],
   "source": [
    "students = {\n",
    "    'Maulik' : {\n",
    "        'college':'MU',\n",
    "        'type':'offline'\n",
    "    },\n",
    "    'Aman' : 'NPGC',\n",
    "    'Abhay': 'NPGC',\n",
    "    'Mazahir': 'AU',\n",
    "    'Imadul': 'IU',\n",
    "    'Prashutosh': 'SHUATS',\n",
    "    'Shoeb': {\n",
    "        'college': 'IET',\n",
    "        'type':'online'\n",
    "    },\n",
    "    'Mandavi': {\n",
    "        'college':'HNBGU',\n",
    "        'type':'online'\n",
    "    }\n",
    "}"
   ]
  },
  {
   "cell_type": "code",
   "execution_count": 10,
   "metadata": {},
   "outputs": [],
   "source": [
    "from pprint import pp"
   ]
  },
  {
   "cell_type": "code",
   "execution_count": 11,
   "metadata": {},
   "outputs": [
    {
     "name": "stdout",
     "output_type": "stream",
     "text": [
      "{'Maulik': {'college': 'MU', 'type': 'offline'},\n",
      " 'Aman': 'NPGC',\n",
      " 'Abhay': 'NPGC',\n",
      " 'Mazahir': 'AU',\n",
      " 'Imadul': 'IU',\n",
      " 'Prashutosh': 'SHUATS',\n",
      " 'Shoeb': {'college': 'IET', 'type': 'online'},\n",
      " 'Mandavi': {'college': 'HNBGU', 'type': 'online'}}\n"
     ]
    }
   ],
   "source": [
    "pp(students)"
   ]
  },
  {
   "cell_type": "code",
   "execution_count": 26,
   "metadata": {},
   "outputs": [
    {
     "data": {
      "text/plain": [
       "'online'"
      ]
     },
     "execution_count": 26,
     "metadata": {},
     "output_type": "execute_result"
    }
   ],
   "source": [
    "students['Mandavi']['type']"
   ]
  },
  {
   "cell_type": "code",
   "execution_count": 14,
   "metadata": {},
   "outputs": [],
   "source": [
    "students['Shreya'] = {\n",
    "    'college': 'BBDU',\n",
    "    'type':'online'\n",
    "}"
   ]
  },
  {
   "cell_type": "code",
   "execution_count": 24,
   "metadata": {},
   "outputs": [
    {
     "name": "stdout",
     "output_type": "stream",
     "text": [
      "{'Maulik': {'college': 'MU', 'type': 'offline'},\n",
      " 'Aman': 'NPGC',\n",
      " 'Abhay': 'NPGC',\n",
      " 'Mazahir': 'AU',\n",
      " 'Imadul': 'IU',\n",
      " 'Prashutosh': 'SHUATS',\n",
      " 'Shoeb': {'college': 'IET', 'type': 'online'},\n",
      " 'Mandavi': {'college': 'HNBGU', 'type': 'online'},\n",
      " 'Shreya': {'college': 'BBDU', 'type': 'online'}}\n"
     ]
    }
   ],
   "source": [
    "pp(students)"
   ]
  },
  {
   "cell_type": "code",
   "execution_count": 28,
   "metadata": {},
   "outputs": [
    {
     "name": "stdout",
     "output_type": "stream",
     "text": [
      "{'Maulik': {'college': 'MU', 'type': 'offline'},\n",
      " 'Aman': 'NPGC',\n",
      " 'Abhay': 'NPGC',\n",
      " 'Mazahir': 'AU',\n",
      " 'Imadul': 'IU',\n",
      " 'Prashutosh': 'SHUATS',\n",
      " 'Shoeb': {'college': 'IET', 'type': 'flexi'},\n",
      " 'Mandavi': {'college': 'HNBGU', 'type': 'online'},\n",
      " 'Shreya': {'college': 'BBDU', 'type': 'online'}}\n"
     ]
    }
   ],
   "source": [
    "students['Shoeb']['type'] = 'flexi'\n",
    "pp(students)"
   ]
  },
  {
   "cell_type": "code",
   "execution_count": 30,
   "metadata": {},
   "outputs": [
    {
     "data": {
      "text/plain": [
       "'NPGC'"
      ]
     },
     "execution_count": 30,
     "metadata": {},
     "output_type": "execute_result"
    }
   ],
   "source": [
    "students.pop('Abhay')"
   ]
  },
  {
   "cell_type": "code",
   "execution_count": 31,
   "metadata": {},
   "outputs": [
    {
     "name": "stdout",
     "output_type": "stream",
     "text": [
      "{'Maulik': {'college': 'MU', 'type': 'offline'},\n",
      " 'Aman': 'NPGC',\n",
      " 'Mazahir': 'AU',\n",
      " 'Imadul': 'IU',\n",
      " 'Prashutosh': 'SHUATS',\n",
      " 'Shoeb': {'college': 'IET', 'type': 'flexi'},\n",
      " 'Mandavi': {'college': 'HNBGU', 'type': 'online'},\n",
      " 'Shreya': {'college': 'BBDU', 'type': 'online'}}\n"
     ]
    }
   ],
   "source": [
    "pp(students)"
   ]
  },
  {
   "cell_type": "code",
   "execution_count": 32,
   "metadata": {},
   "outputs": [],
   "source": [
    "report = {\n",
    "    'class10': {\n",
    "        'rohan': {\n",
    "            'english': 90,\n",
    "            'maths': 95,\n",
    "            'hindi': 85,\n",
    "            'science': 95,\n",
    "            'social': 95,\n",
    "            'p.e.': 95,\n",
    "        },\n",
    "        'mohit': {\n",
    "            'english': 50,\n",
    "            'maths': 55,\n",
    "            'hindi': 45,\n",
    "            'science': 55,\n",
    "            'social': 55,\n",
    "            'p.e.': 95,\n",
    "        },\n",
    "        'shreya': {\n",
    "            'english': 72,\n",
    "            'maths': 75,\n",
    "            'hindi': 65,\n",
    "            'science': 75,\n",
    "            'social': 75,\n",
    "            'p.e.': 75,\n",
    "        },\n",
    "        'shubham': {\n",
    "            'english': 82,\n",
    "            'maths': 85,\n",
    "            'hindi': 75,\n",
    "            'science': 85,\n",
    "            'social': 85,\n",
    "            'p.e.': 85,\n",
    "        },\n",
    "        'shruti': {\n",
    "            'english': 92,\n",
    "            'maths': 55,\n",
    "            'hindi': 85,\n",
    "            'science': 65,\n",
    "            'social': 95,\n",
    "            'p.e.': 95,\n",
    "        },   \n",
    "        'alex':{\n",
    "            'english': 92,\n",
    "            'maths': 55,\n",
    "            'hindi': 82,\n",
    "            'science': 61,\n",
    "            'social': 95,\n",
    "            'p.e.': 95,\n",
    "        },     \n",
    "    }\n",
    "}"
   ]
  },
  {
   "cell_type": "code",
   "execution_count": 33,
   "metadata": {},
   "outputs": [
    {
     "name": "stdout",
     "output_type": "stream",
     "text": [
      "{'class10': {'rohan': {'english': 90,\n",
      "                       'maths': 95,\n",
      "                       'hindi': 85,\n",
      "                       'science': 95,\n",
      "                       'social': 95,\n",
      "                       'p.e.': 95},\n",
      "             'mohit': {'english': 50,\n",
      "                       'maths': 55,\n",
      "                       'hindi': 45,\n",
      "                       'science': 55,\n",
      "                       'social': 55,\n",
      "                       'p.e.': 95},\n",
      "             'shreya': {'english': 72,\n",
      "                        'maths': 75,\n",
      "                        'hindi': 65,\n",
      "                        'science': 75,\n",
      "                        'social': 75,\n",
      "                        'p.e.': 75},\n",
      "             'shubham': {'english': 82,\n",
      "                         'maths': 85,\n",
      "                         'hindi': 75,\n",
      "                         'science': 85,\n",
      "                         'social': 85,\n",
      "                         'p.e.': 85},\n",
      "             'shruti': {'english': 92,\n",
      "                        'maths': 55,\n",
      "                        'hindi': 85,\n",
      "                        'science': 65,\n",
      "                        'social': 95,\n",
      "                        'p.e.': 95},\n",
      "             'alex': {'english': 92,\n",
      "                      'maths': 55,\n",
      "                      'hindi': 82,\n",
      "                      'science': 61,\n",
      "                      'social': 95,\n",
      "                      'p.e.': 95}}}\n"
     ]
    }
   ],
   "source": [
    "pp(report)"
   ]
  },
  {
   "cell_type": "code",
   "execution_count": null,
   "metadata": {},
   "outputs": [],
   "source": []
  }
 ],
 "metadata": {
  "kernelspec": {
   "display_name": "base",
   "language": "python",
   "name": "python3"
  },
  "language_info": {
   "codemirror_mode": {
    "name": "ipython",
    "version": 3
   },
   "file_extension": ".py",
   "mimetype": "text/x-python",
   "name": "python",
   "nbconvert_exporter": "python",
   "pygments_lexer": "ipython3",
   "version": "3.10.11"
  },
  "orig_nbformat": 4
 },
 "nbformat": 4,
 "nbformat_minor": 2
}
