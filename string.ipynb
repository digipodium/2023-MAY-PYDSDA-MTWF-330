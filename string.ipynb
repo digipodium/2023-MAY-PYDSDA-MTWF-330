{
 "cells": [
  {
   "attachments": {},
   "cell_type": "markdown",
   "metadata": {},
   "source": [
    "# String\n",
    "    - creating\n",
    "    - indexing\n",
    "    - slicing\n",
    "    - methods\n",
    "        - formatting methods\n",
    "        - validation methods\n",
    "        - utility methods"
   ]
  },
  {
   "cell_type": "code",
   "execution_count": 5,
   "metadata": {},
   "outputs": [],
   "source": [
    "a = 'hello' # string\n",
    "b = \"hola\" # string\n",
    "c = '''this is\n",
    "a multiline\n",
    "message from\n",
    "the past'''"
   ]
  },
  {
   "attachments": {},
   "cell_type": "markdown",
   "metadata": {},
   "source": [
    "\\ is used to escape special characters"
   ]
  },
  {
   "cell_type": "code",
   "execution_count": 12,
   "metadata": {},
   "outputs": [
    {
     "name": "stdout",
     "output_type": "stream",
     "text": [
      "this is a 'important' message\n",
      "this is a 'important' message\n"
     ]
    }
   ],
   "source": [
    "print('this is a \\'important\\' message')\n",
    "print(\"this is a 'important' message\")"
   ]
  },
  {
   "cell_type": "code",
   "execution_count": 13,
   "metadata": {},
   "outputs": [
    {
     "name": "stdout",
     "output_type": "stream",
     "text": [
      "Alex fisher\n"
     ]
    }
   ],
   "source": [
    "name = input('enter ur name:')\n",
    "print(name)"
   ]
  },
  {
   "cell_type": "code",
   "execution_count": 14,
   "metadata": {},
   "outputs": [
    {
     "name": "stdout",
     "output_type": "stream",
     "text": [
      "9301292021\n"
     ]
    }
   ],
   "source": [
    "x = str(9301292021)\n",
    "print(x)"
   ]
  },
  {
   "cell_type": "code",
   "execution_count": 15,
   "metadata": {},
   "outputs": [],
   "source": [
    "name = 'Vijay Deenanath Chauhan'"
   ]
  },
  {
   "cell_type": "code",
   "execution_count": 17,
   "metadata": {},
   "outputs": [
    {
     "name": "stdout",
     "output_type": "stream",
     "text": [
      "V\n",
      "n\n"
     ]
    }
   ],
   "source": [
    "print(name[0])\n",
    "print(name[-1])"
   ]
  },
  {
   "cell_type": "code",
   "execution_count": 26,
   "metadata": {},
   "outputs": [
    {
     "name": "stdout",
     "output_type": "stream",
     "text": [
      "Vijay\n",
      "Deenanath\n",
      "Chauhan\n",
      "nahuahC htananeeD yajiV\n",
      "VjyDeaahCahn\n"
     ]
    }
   ],
   "source": [
    "print(name[:5])\n",
    "print(name[6:15])\n",
    "print(name[-7:])\n",
    "print(name[::-1]) # reverse a sequence\n",
    "print(name[::2]) # skip every 2nd character"
   ]
  },
  {
   "cell_type": "code",
   "execution_count": 31,
   "metadata": {},
   "outputs": [
    {
     "name": "stdout",
     "output_type": "stream",
     "text": [
      "JOURNEY BEFORE DESTINATION\n",
      "journey before destination\n",
      "Journey Before Destination\n",
      "Journey before destination\n",
      "journey before destination\n",
      "jOURNEY bEFORE dESTINATION\n"
     ]
    }
   ],
   "source": [
    "msg = 'Journey Before Destination'\n",
    "print(msg.upper())\n",
    "print(msg.lower())\n",
    "print(msg.title())\n",
    "print(msg.capitalize())\n",
    "print(msg.casefold())\n",
    "print(msg.swapcase())\n"
   ]
  },
  {
   "cell_type": "code",
   "execution_count": 43,
   "metadata": {},
   "outputs": [
    {
     "name": "stdout",
     "output_type": "stream",
     "text": [
      "                                                                                                             Journey Before Destination\n"
     ]
    }
   ],
   "source": [
    "print(f'{msg:>135}')"
   ]
  },
  {
   "cell_type": "code",
   "execution_count": 69,
   "metadata": {},
   "outputs": [
    {
     "name": "stdout",
     "output_type": "stream",
     "text": [
      "~~~~~~~~~~~~~~~~~~~~~~~~~~~~~~~~~~~~~Journey Before Destination~~~~~~~~~~~~~~~~~~~~~~~~~~~~~~~~~~~~~\n",
      "Journey Before Destination                                                                          \n",
      "                                                                          Journey Before Destination\n"
     ]
    }
   ],
   "source": [
    "print(msg.center(100, '~'))\n",
    "print(msg.ljust(100))\n",
    "print(msg.rjust(100))"
   ]
  },
  {
   "cell_type": "code",
   "execution_count": 71,
   "metadata": {},
   "outputs": [
    {
     "name": "stdout",
     "output_type": "stream",
     "text": [
      "num pow result\n",
      "1   2   1     \n",
      "2   2   4     \n",
      "3   2   9     \n",
      "4   2   16    \n",
      "5   2   25    \n",
      "6   2   36    \n",
      "7   2   49    \n",
      "8   2   64    \n",
      "9   2   81    \n",
      "10  2   100   \n",
      "11  2   121   \n",
      "12  2   144   \n",
      "13  2   169   \n",
      "14  2   196   \n",
      "15  2   225   \n",
      "16  2   256   \n",
      "17  2   289   \n",
      "18  2   324   \n",
      "19  2   361   \n",
      "20  2   400   \n"
     ]
    }
   ],
   "source": [
    "print('num pow result')\n",
    "for i in range(1,21):\n",
    "    print(f'{i:<3} {2:<3} {i**2:<6}')"
   ]
  },
  {
   "cell_type": "code",
   "execution_count": 72,
   "metadata": {},
   "outputs": [
    {
     "name": "stdout",
     "output_type": "stream",
     "text": [
      "True\n",
      "True\n",
      "False\n"
     ]
    }
   ],
   "source": [
    "a = 'hello'\n",
    "print(a.isalpha())\n",
    "print(a.isalnum())\n",
    "print(a.isnumeric())"
   ]
  },
  {
   "cell_type": "code",
   "execution_count": 75,
   "metadata": {},
   "outputs": [
    {
     "name": "stdout",
     "output_type": "stream",
     "text": [
      "good job\n"
     ]
    }
   ],
   "source": [
    "num1 = input('enter a number:')\n",
    "if num1.isalpha():\n",
    "    print('we dont want alphabets')\n",
    "elif num1.isnumeric():\n",
    "    print('good job')\n",
    "    num1 = int(num1)"
   ]
  },
  {
   "cell_type": "code",
   "execution_count": 78,
   "metadata": {},
   "outputs": [
    {
     "name": "stdout",
     "output_type": "stream",
     "text": [
      "Hello Engineer\n"
     ]
    }
   ],
   "source": [
    "name = 'Er. Watson'\n",
    "if name.startswith('Mr.'):\n",
    "    print('Hello Mister')\n",
    "elif name.startswith('Dr.'):\n",
    "    print('Hello Doctor')\n",
    "elif name.startswith('Er.'):\n",
    "    print('Hello Engineer')"
   ]
  },
  {
   "cell_type": "code",
   "execution_count": 81,
   "metadata": {},
   "outputs": [
    {
     "data": {
      "text/plain": [
       "['Journey', 'Before', 'Destination']"
      ]
     },
     "execution_count": 81,
     "metadata": {},
     "output_type": "execute_result"
    }
   ],
   "source": [
    "msg.split()"
   ]
  },
  {
   "cell_type": "code",
   "execution_count": 87,
   "metadata": {},
   "outputs": [
    {
     "name": "stdout",
     "output_type": "stream",
     "text": [
      "['1-0', '2-0', '4-6', '3-6', '6-5']\n"
     ]
    }
   ],
   "source": [
    "data = '1-0,2-0,4-6,3-6,6-5'\n",
    "score = data.split(',')\n",
    "print(score)"
   ]
  },
  {
   "cell_type": "code",
   "execution_count": 92,
   "metadata": {},
   "outputs": [
    {
     "name": "stdout",
     "output_type": "stream",
     "text": [
      "['1', '2', '4', '5', '2', '1', '2', '5', '5']\n"
     ]
    }
   ],
   "source": [
    "user_values = input('enter values seperated by ,')\n",
    "print(user_values.split(','))"
   ]
  },
  {
   "cell_type": "code",
   "execution_count": 98,
   "metadata": {},
   "outputs": [
    {
     "data": {
      "text/plain": [
       "'hello this is a list'"
      ]
     },
     "execution_count": 98,
     "metadata": {},
     "output_type": "execute_result"
    }
   ],
   "source": [
    "values = ['hello', 'this', 'is', 'a', 'list']\n",
    "\" \".join(values)"
   ]
  },
  {
   "cell_type": "code",
   "execution_count": null,
   "metadata": {},
   "outputs": [],
   "source": []
  }
 ],
 "metadata": {
  "kernelspec": {
   "display_name": "base",
   "language": "python",
   "name": "python3"
  },
  "language_info": {
   "codemirror_mode": {
    "name": "ipython",
    "version": 3
   },
   "file_extension": ".py",
   "mimetype": "text/x-python",
   "name": "python",
   "nbconvert_exporter": "python",
   "pygments_lexer": "ipython3",
   "version": "3.10.11"
  },
  "orig_nbformat": 4
 },
 "nbformat": 4,
 "nbformat_minor": 2
}
