{
 "cells": [
  {
   "attachments": {},
   "cell_type": "markdown",
   "metadata": {},
   "source": [
    "# String\n",
    "    - creating\n",
    "    - indexing\n",
    "    - slicing\n",
    "    - methods\n",
    "        - formatting methods\n",
    "        - validation methods\n",
    "        - utility methods"
   ]
  },
  {
   "cell_type": "code",
   "execution_count": 5,
   "metadata": {},
   "outputs": [],
   "source": [
    "a = 'hello' # string\n",
    "b = \"hola\" # string\n",
    "c = '''this is\n",
    "a multiline\n",
    "message from\n",
    "the past'''"
   ]
  },
  {
   "attachments": {},
   "cell_type": "markdown",
   "metadata": {},
   "source": [
    "\\ is used to escape special characters"
   ]
  },
  {
   "cell_type": "code",
   "execution_count": 12,
   "metadata": {},
   "outputs": [
    {
     "name": "stdout",
     "output_type": "stream",
     "text": [
      "this is a 'important' message\n",
      "this is a 'important' message\n"
     ]
    }
   ],
   "source": [
    "print('this is a \\'important\\' message')\n",
    "print(\"this is a 'important' message\")"
   ]
  },
  {
   "cell_type": "code",
   "execution_count": 13,
   "metadata": {},
   "outputs": [
    {
     "name": "stdout",
     "output_type": "stream",
     "text": [
      "Alex fisher\n"
     ]
    }
   ],
   "source": [
    "name = input('enter ur name:')\n",
    "print(name)"
   ]
  },
  {
   "cell_type": "code",
   "execution_count": 14,
   "metadata": {},
   "outputs": [
    {
     "name": "stdout",
     "output_type": "stream",
     "text": [
      "9301292021\n"
     ]
    }
   ],
   "source": [
    "x = str(9301292021)\n",
    "print(x)"
   ]
  },
  {
   "cell_type": "code",
   "execution_count": 15,
   "metadata": {},
   "outputs": [],
   "source": [
    "name = 'Vijay Deenanath Chauhan'"
   ]
  },
  {
   "cell_type": "code",
   "execution_count": 17,
   "metadata": {},
   "outputs": [
    {
     "name": "stdout",
     "output_type": "stream",
     "text": [
      "V\n",
      "n\n"
     ]
    }
   ],
   "source": [
    "print(name[0])\n",
    "print(name[-1])"
   ]
  },
  {
   "cell_type": "code",
   "execution_count": 26,
   "metadata": {},
   "outputs": [
    {
     "name": "stdout",
     "output_type": "stream",
     "text": [
      "Vijay\n",
      "Deenanath\n",
      "Chauhan\n",
      "nahuahC htananeeD yajiV\n",
      "VjyDeaahCahn\n"
     ]
    }
   ],
   "source": [
    "print(name[:5])\n",
    "print(name[6:15])\n",
    "print(name[-7:])\n",
    "print(name[::-1]) # reverse a sequence\n",
    "print(name[::2]) # skip every 2nd character"
   ]
  },
  {
   "cell_type": "code",
   "execution_count": 31,
   "metadata": {},
   "outputs": [
    {
     "name": "stdout",
     "output_type": "stream",
     "text": [
      "JOURNEY BEFORE DESTINATION\n",
      "journey before destination\n",
      "Journey Before Destination\n",
      "Journey before destination\n",
      "journey before destination\n",
      "jOURNEY bEFORE dESTINATION\n"
     ]
    }
   ],
   "source": [
    "msg = 'Journey Before Destination'\n",
    "print(msg.upper())\n",
    "print(msg.lower())\n",
    "print(msg.title())\n",
    "print(msg.capitalize())\n",
    "print(msg.casefold())\n",
    "print(msg.swapcase())\n"
   ]
  },
  {
   "cell_type": "code",
   "execution_count": 43,
   "metadata": {},
   "outputs": [
    {
     "name": "stdout",
     "output_type": "stream",
     "text": [
      "                                                                                                             Journey Before Destination\n"
     ]
    }
   ],
   "source": [
    "print(f'{msg:>135}')"
   ]
  },
  {
   "cell_type": "code",
   "execution_count": 69,
   "metadata": {},
   "outputs": [
    {
     "name": "stdout",
     "output_type": "stream",
     "text": [
      "~~~~~~~~~~~~~~~~~~~~~~~~~~~~~~~~~~~~~Journey Before Destination~~~~~~~~~~~~~~~~~~~~~~~~~~~~~~~~~~~~~\n",
      "Journey Before Destination                                                                          \n",
      "                                                                          Journey Before Destination\n"
     ]
    }
   ],
   "source": [
    "print(msg.center(100, '~'))\n",
    "print(msg.ljust(100))\n",
    "print(msg.rjust(100))"
   ]
  },
  {
   "cell_type": "code",
   "execution_count": 71,
   "metadata": {},
   "outputs": [
    {
     "name": "stdout",
     "output_type": "stream",
     "text": [
      "num pow result\n",
      "1   2   1     \n",
      "2   2   4     \n",
      "3   2   9     \n",
      "4   2   16    \n",
      "5   2   25    \n",
      "6   2   36    \n",
      "7   2   49    \n",
      "8   2   64    \n",
      "9   2   81    \n",
      "10  2   100   \n",
      "11  2   121   \n",
      "12  2   144   \n",
      "13  2   169   \n",
      "14  2   196   \n",
      "15  2   225   \n",
      "16  2   256   \n",
      "17  2   289   \n",
      "18  2   324   \n",
      "19  2   361   \n",
      "20  2   400   \n"
     ]
    }
   ],
   "source": [
    "print('num pow result')\n",
    "for i in range(1,21):\n",
    "    print(f'{i:<3} {2:<3} {i**2:<6}')"
   ]
  },
  {
   "cell_type": "code",
   "execution_count": 72,
   "metadata": {},
   "outputs": [
    {
     "name": "stdout",
     "output_type": "stream",
     "text": [
      "True\n",
      "True\n",
      "False\n"
     ]
    }
   ],
   "source": [
    "a = 'hello'\n",
    "print(a.isalpha())\n",
    "print(a.isalnum())\n",
    "print(a.isnumeric())"
   ]
  },
  {
   "cell_type": "code",
   "execution_count": 75,
   "metadata": {},
   "outputs": [
    {
     "name": "stdout",
     "output_type": "stream",
     "text": [
      "good job\n"
     ]
    }
   ],
   "source": [
    "num1 = input('enter a number:')\n",
    "if num1.isalpha():\n",
    "    print('we dont want alphabets')\n",
    "elif num1.isnumeric():\n",
    "    print('good job')\n",
    "    num1 = int(num1)"
   ]
  },
  {
   "cell_type": "code",
   "execution_count": 78,
   "metadata": {},
   "outputs": [
    {
     "name": "stdout",
     "output_type": "stream",
     "text": [
      "Hello Engineer\n"
     ]
    }
   ],
   "source": [
    "name = 'Er. Watson'\n",
    "if name.startswith('Mr.'):\n",
    "    print('Hello Mister')\n",
    "elif name.startswith('Dr.'):\n",
    "    print('Hello Doctor')\n",
    "elif name.startswith('Er.'):\n",
    "    print('Hello Engineer')"
   ]
  },
  {
   "cell_type": "code",
   "execution_count": 81,
   "metadata": {},
   "outputs": [
    {
     "data": {
      "text/plain": [
       "['Journey', 'Before', 'Destination']"
      ]
     },
     "execution_count": 81,
     "metadata": {},
     "output_type": "execute_result"
    }
   ],
   "source": [
    "msg.split()"
   ]
  },
  {
   "cell_type": "code",
   "execution_count": 87,
   "metadata": {},
   "outputs": [
    {
     "name": "stdout",
     "output_type": "stream",
     "text": [
      "['1-0', '2-0', '4-6', '3-6', '6-5']\n"
     ]
    }
   ],
   "source": [
    "data = '1-0,2-0,4-6,3-6,6-5'\n",
    "score = data.split(',')\n",
    "print(score)"
   ]
  },
  {
   "cell_type": "code",
   "execution_count": 92,
   "metadata": {},
   "outputs": [
    {
     "name": "stdout",
     "output_type": "stream",
     "text": [
      "['1', '2', '4', '5', '2', '1', '2', '5', '5']\n"
     ]
    }
   ],
   "source": [
    "user_values = input('enter values seperated by ,')\n",
    "print(user_values.split(','))"
   ]
  },
  {
   "cell_type": "code",
   "execution_count": 98,
   "metadata": {},
   "outputs": [
    {
     "data": {
      "text/plain": [
       "'hello this is a list'"
      ]
     },
     "execution_count": 98,
     "metadata": {},
     "output_type": "execute_result"
    }
   ],
   "source": [
    "values = ['hello', 'this', 'is', 'a', 'list']\n",
    "\" \".join(values)"
   ]
  },
  {
   "attachments": {},
   "cell_type": "markdown",
   "metadata": {},
   "source": [
    "14 jun 23"
   ]
  },
  {
   "cell_type": "code",
   "execution_count": 1,
   "metadata": {},
   "outputs": [],
   "source": [
    "message = 'this is an example, where we are using some words'"
   ]
  },
  {
   "cell_type": "code",
   "execution_count": 2,
   "metadata": {},
   "outputs": [
    {
     "data": {
      "text/plain": [
       "['this',\n",
       " 'is',\n",
       " 'an',\n",
       " 'example,',\n",
       " 'where',\n",
       " 'we',\n",
       " 'are',\n",
       " 'using',\n",
       " 'some',\n",
       " 'words']"
      ]
     },
     "execution_count": 2,
     "metadata": {},
     "output_type": "execute_result"
    }
   ],
   "source": [
    "message.split()"
   ]
  },
  {
   "cell_type": "code",
   "execution_count": 3,
   "metadata": {},
   "outputs": [
    {
     "data": {
      "text/plain": [
       "['this is an example', ' where we are using some words']"
      ]
     },
     "execution_count": 3,
     "metadata": {},
     "output_type": "execute_result"
    }
   ],
   "source": [
    "message.split(',')"
   ]
  },
  {
   "cell_type": "code",
   "execution_count": 5,
   "metadata": {},
   "outputs": [
    {
     "name": "stdout",
     "output_type": "stream",
     "text": [
      "this\n",
      "is\n",
      "an\n",
      "example,\n",
      "where\n",
      "we\n",
      "are\n",
      "using\n",
      "some\n",
      "words\n"
     ]
    }
   ],
   "source": [
    "words = message.split()\n",
    "for w in words:\n",
    "    print(w)"
   ]
  },
  {
   "cell_type": "code",
   "execution_count": 14,
   "metadata": {},
   "outputs": [
    {
     "data": {
      "text/plain": [
       "'this is an example, where we are using some words'"
      ]
     },
     "execution_count": 14,
     "metadata": {},
     "output_type": "execute_result"
    }
   ],
   "source": [
    "\" \".join(words)"
   ]
  },
  {
   "cell_type": "code",
   "execution_count": 21,
   "metadata": {},
   "outputs": [
    {
     "name": "stdout",
     "output_type": "stream",
     "text": [
      "20\n",
      "26\n",
      "15\n",
      "-1\n",
      "8\n",
      "13\n"
     ]
    }
   ],
   "source": [
    "print(message.find('where'))\n",
    "print(message.find('we'))\n",
    "print(message.find('ple'))\n",
    "print(message.find('z'))\n",
    "print(message.find('a'))\n",
    "print(message.find('a', 9))"
   ]
  },
  {
   "cell_type": "code",
   "execution_count": 24,
   "metadata": {},
   "outputs": [
    {
     "data": {
      "text/plain": [
       "'this is an eeeexampleeee, wheeeereeee weeee areeee using someeee words'"
      ]
     },
     "execution_count": 24,
     "metadata": {},
     "output_type": "execute_result"
    }
   ],
   "source": [
    "message.replace('e', 'eeee')"
   ]
  },
  {
   "cell_type": "code",
   "execution_count": 25,
   "metadata": {},
   "outputs": [
    {
     "data": {
      "text/plain": [
       "'this is a story, where we are using some words'"
      ]
     },
     "execution_count": 25,
     "metadata": {},
     "output_type": "execute_result"
    }
   ],
   "source": [
    "message.replace('an example', 'a story')"
   ]
  },
  {
   "cell_type": "code",
   "execution_count": 26,
   "metadata": {},
   "outputs": [
    {
     "data": {
      "text/plain": [
       "'this is a story, where we are using some sentences'"
      ]
     },
     "execution_count": 26,
     "metadata": {},
     "output_type": "execute_result"
    }
   ],
   "source": [
    "message.replace('an example', 'a story').replace('words', 'sentences')"
   ]
  },
  {
   "cell_type": "code",
   "execution_count": 27,
   "metadata": {},
   "outputs": [
    {
     "name": "stdout",
     "output_type": "stream",
     "text": [
      "this is a story, where we are using some words\n"
     ]
    }
   ],
   "source": [
    "message = message.replace('an example', 'a story')\n",
    "print(message)"
   ]
  },
  {
   "cell_type": "code",
   "execution_count": 36,
   "metadata": {},
   "outputs": [
    {
     "data": {
      "text/plain": [
       "'Alex Johnny Yes Papa, Eating Sugar No Papa'"
      ]
     },
     "execution_count": 36,
     "metadata": {},
     "output_type": "execute_result"
    }
   ],
   "source": [
    "poem = 'Johnny Johnny Yes Papa, Eating Sugar No Papa'\n",
    "poem.replace('Johnny', 'Alex', 1)"
   ]
  },
  {
   "cell_type": "code",
   "execution_count": 37,
   "metadata": {},
   "outputs": [],
   "source": [
    "message = 'this is an example where another example is used to show an example'"
   ]
  },
  {
   "cell_type": "code",
   "execution_count": 41,
   "metadata": {},
   "outputs": [
    {
     "name": "stdout",
     "output_type": "stream",
     "text": [
      "example is used 3 times\n"
     ]
    }
   ],
   "source": [
    "ce = message.count('example')\n",
    "print(f'example is used {ce} times')"
   ]
  },
  {
   "cell_type": "code",
   "execution_count": 45,
   "metadata": {},
   "outputs": [
    {
     "name": "stdout",
     "output_type": "stream",
     "text": [
      "!dlroW olleH\n",
      "<reversed object at 0x0000019525C3FB20>\n"
     ]
    }
   ],
   "source": [
    "msg = 'Hello World!'\n",
    "print(msg[::-1]) # evergreen\n",
    "print(reversed(msg)) # old "
   ]
  },
  {
   "cell_type": "code",
   "execution_count": 50,
   "metadata": {},
   "outputs": [
    {
     "name": "stdout",
     "output_type": "stream",
     "text": [
      "to move to newline '\\n' is used.\n"
     ]
    }
   ],
   "source": [
    "msg = r\"to move to newline '\\n' is used.\" # r is used to make a raw string\n",
    "print(msg)"
   ]
  },
  {
   "cell_type": "code",
   "execution_count": 48,
   "metadata": {},
   "outputs": [
    {
     "name": "stdout",
     "output_type": "stream",
     "text": [
      "to move to newline '\\n' is used.\n"
     ]
    }
   ],
   "source": [
    "msg = \"to move to newline '\\\\n' is used.\"\n",
    "print(msg)"
   ]
  },
  {
   "cell_type": "code",
   "execution_count": 51,
   "metadata": {},
   "outputs": [
    {
     "name": "stdout",
     "output_type": "stream",
     "text": [
      "this is not a good string\n"
     ]
    }
   ],
   "source": [
    "text = '   this is not a good string           '\n",
    "text = text.strip()\n",
    "print(text)"
   ]
  },
  {
   "attachments": {},
   "cell_type": "markdown",
   "metadata": {},
   "source": [
    "`Ask user to input string, print found if any of the character is upper case.`"
   ]
  },
  {
   "cell_type": "code",
   "execution_count": 1,
   "metadata": {},
   "outputs": [
    {
     "name": "stdout",
     "output_type": "stream",
     "text": [
      "found\n"
     ]
    }
   ],
   "source": [
    "uinp = input('enter a string:')\n",
    "for char in uinp:\n",
    "    if char.isupper():\n",
    "        print('found')\n",
    "        break"
   ]
  },
  {
   "attachments": {},
   "cell_type": "markdown",
   "metadata": {},
   "source": [
    "`Remove all the special characters and numbers from the following string`\n",
    "\n",
    "text = '%p34@y!*-*!t68h#&on404'"
   ]
  },
  {
   "cell_type": "code",
   "execution_count": 7,
   "metadata": {},
   "outputs": [
    {
     "name": "stdout",
     "output_type": "stream",
     "text": [
      "hello frds  Chai peelo\n"
     ]
    }
   ],
   "source": [
    "from string import punctuation\n",
    "text = input('enter a string:')\n",
    "for char in punctuation:\n",
    "    text = text.replace(char, '')\n",
    "print(text)"
   ]
  },
  {
   "cell_type": "code",
   "execution_count": 9,
   "metadata": {},
   "outputs": [
    {
     "name": "stdout",
     "output_type": "stream",
     "text": [
      "['Joe', 'David', 'Mark', 'Tom', 'Chris', 'Robert']\n"
     ]
    }
   ],
   "source": [
    "names = 'Joe, David, Mark, Tom, Chris, Robert'\n",
    "namelist = names.split(', ')\n",
    "print(namelist)"
   ]
  },
  {
   "cell_type": "code",
   "execution_count": 15,
   "metadata": {},
   "outputs": [
    {
     "name": "stdout",
     "output_type": "stream",
     "text": [
      "thisaye isaye someaye textaye\n"
     ]
    }
   ],
   "source": [
    "text = 'this is some text'\n",
    "result = \" \".join([word+'aye' for word in text.split()])\n",
    "print(result)"
   ]
  },
  {
   "attachments": {},
   "cell_type": "markdown",
   "metadata": {},
   "source": [
    "calculate the average word length of the following paragraph."
   ]
  },
  {
   "cell_type": "code",
   "execution_count": 23,
   "metadata": {},
   "outputs": [
    {
     "name": "stdout",
     "output_type": "stream",
     "text": [
      "['this', 'is', 'a', 'paragraph', 'which', 'is', 'written', 'just', 'for', 'the', 'purpose', 'of', 'providing', 'content', 'to', 'let', 'the', 'average', 'word', 'length', 'be', 'calculated']\n",
      "[4, 2, 1, 9, 5, 2, 7, 4, 3, 3, 7, 2, 9, 7, 2, 3, 3, 7, 4, 6, 2, 10]\n",
      "avg word length:  4.636363636363637\n"
     ]
    }
   ],
   "source": [
    "msg = 'this is a paragraph which is written just for the purpose of providing content to let the average word length be calculated'\n",
    "words = msg.split()\n",
    "print(words)\n",
    "lengths = [len(word) for word in words]\n",
    "print(lengths)\n",
    "print('avg word length: ',sum(lengths)/len(lengths))"
   ]
  },
  {
   "attachments": {},
   "cell_type": "markdown",
   "metadata": {},
   "source": [
    "ask user to enter a string and check if the string contains fyi"
   ]
  },
  {
   "cell_type": "code",
   "execution_count": 24,
   "metadata": {},
   "outputs": [
    {
     "name": "stdout",
     "output_type": "stream",
     "text": [
      "not found\n"
     ]
    }
   ],
   "source": [
    "msg = input('enter message:')\n",
    "if 'fyi' in msg:\n",
    "    print('found')\n",
    "else:\n",
    "    print('not found')"
   ]
  },
  {
   "cell_type": "code",
   "execution_count": null,
   "metadata": {},
   "outputs": [],
   "source": [
    "print('found') if 'fyi' in msg else print('not found')"
   ]
  }
 ],
 "metadata": {
  "kernelspec": {
   "display_name": "base",
   "language": "python",
   "name": "python3"
  },
  "language_info": {
   "codemirror_mode": {
    "name": "ipython",
    "version": 3
   },
   "file_extension": ".py",
   "mimetype": "text/x-python",
   "name": "python",
   "nbconvert_exporter": "python",
   "pygments_lexer": "ipython3",
   "version": "3.10.11"
  },
  "orig_nbformat": 4
 },
 "nbformat": 4,
 "nbformat_minor": 2
}
