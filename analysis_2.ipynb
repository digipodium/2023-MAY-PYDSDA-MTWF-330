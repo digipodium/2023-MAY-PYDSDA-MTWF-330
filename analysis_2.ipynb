{
 "cells": [
  {
   "cell_type": "code",
   "execution_count": null,
   "metadata": {},
   "outputs": [],
   "source": [
    "import pandas as pd\n",
    "import numpy as np\n",
    "import matplotlib.pyplot as plt"
   ]
  },
  {
   "attachments": {},
   "cell_type": "markdown",
   "metadata": {},
   "source": [
    "- load the datset\n",
    "- look at the data `(head, tail, sample)`\n",
    "    - get the information about the datatype `(dtypes)`\n",
    "    - get the information about the columns `(info)`\n",
    "    - check how many rows are missing in each column `(isnull, isna)`\n",
    "    - get statistical information about the dataset `(describe)`\n",
    "- if required, `clean` the dataset\n",
    "    - remove the rows with missing values\n",
    "    - remove the columns with missing values or they are not required\n",
    "- if required, transform the dataset\n",
    "    - convert the categorical columns to numerical columns\n",
    "    - convert the numerical columns to categorical columns\n",
    "- if required, convert the datatypes of the columns\n",
    "- if required, create new columns\n",
    "- if required, rename the columns\n",
    "- if required, remove the duplicates\n",
    "- if required, remove the outliers\n",
    "- if required, scale the dataset (standardization or normalization)\n",
    "- sort the dataset\n",
    "- visualize the data\n",
    "    - univariate analysis\n",
    "        - visualizing a single column\n",
    "            - histogram\n",
    "            - boxplot\n",
    "            - line\n",
    "            - bar\n",
    "            - pie\n",
    "            - area\n",
    "    - bivariate analysis\n",
    "        - visualizing two columns\n",
    "            - scatter (bubble)\n",
    "            - line\n",
    "            - bar\n",
    "            - pie\n",
    "            - area\n",
    "    - multivariate analysis\n",
    "        - visualizing more than two columns\n",
    "            - scatter (bubble)\n",
    "            - surface\n",
    "---\n",
    "**Note: If the dataset is too large, then take a sample of the dataset and perform the above steps.**"
   ]
  },
  {
   "cell_type": "code",
   "execution_count": null,
   "metadata": {},
   "outputs": [],
   "source": [
    "df = pd.read_json('flipkart_fashion_products_dataset.json')"
   ]
  },
  {
   "cell_type": "code",
   "execution_count": null,
   "metadata": {},
   "outputs": [],
   "source": [
    "df.head()"
   ]
  },
  {
   "cell_type": "code",
   "execution_count": null,
   "metadata": {},
   "outputs": [],
   "source": [
    "df.shape"
   ]
  },
  {
   "cell_type": "code",
   "execution_count": null,
   "metadata": {},
   "outputs": [],
   "source": [
    "df.info()"
   ]
  },
  {
   "cell_type": "code",
   "execution_count": null,
   "metadata": {},
   "outputs": [],
   "source": [
    "df.describe()"
   ]
  },
  {
   "cell_type": "code",
   "execution_count": null,
   "metadata": {},
   "outputs": [],
   "source": [
    "# missing values\n",
    "df.isnull().sum()"
   ]
  },
  {
   "cell_type": "code",
   "execution_count": null,
   "metadata": {},
   "outputs": [],
   "source": [
    "# removing unwanted columns\n",
    "cols_to_delete = ['_id', 'pid', 'url','images']\n",
    "df.drop(cols_to_delete, axis=1, inplace=True)\n",
    "df.head()"
   ]
  },
  {
   "cell_type": "code",
   "execution_count": null,
   "metadata": {},
   "outputs": [],
   "source": [
    "def clean_price(price):\n",
    "    if price is None:\n",
    "        return np.nan\n",
    "    elif isinstance(price, str):\n",
    "        price = price.replace(',', '')\n",
    "        if price:\n",
    "            price = float(price)\n",
    "        else:\n",
    "            price = np.nan\n",
    "        return price\n",
    "    else:\n",
    "        return price\n",
    "\n",
    "\n",
    "df['actual_price'] = df['actual_price'].apply(clean_price)"
   ]
  },
  {
   "cell_type": "code",
   "execution_count": null,
   "metadata": {},
   "outputs": [],
   "source": [
    "def clean_discount(value):\n",
    "    if value is None:\n",
    "        return np.nan\n",
    "    elif isinstance(value, str):\n",
    "        value = value.replace('% off', '')\n",
    "        if value:\n",
    "            value = float(value)\n",
    "        else:\n",
    "            value = np.nan\n",
    "        return value\n",
    "    else:\n",
    "        return value\n",
    "\n",
    "df['discount'] = df['discount'].apply(clean_discount)"
   ]
  },
  {
   "cell_type": "code",
   "execution_count": null,
   "metadata": {},
   "outputs": [],
   "source": [
    "def clean_rating(value):\n",
    "    if value is None:\n",
    "        return np.nan\n",
    "    elif isinstance(value, str):\n",
    "        if value:\n",
    "            value = float(value)\n",
    "        else:\n",
    "            value = np.nan\n",
    "        return value\n",
    "    else:\n",
    "        return value\n",
    "\n",
    "df['average_rating'] = df['average_rating'].apply(clean_rating)"
   ]
  },
  {
   "cell_type": "code",
   "execution_count": null,
   "metadata": {},
   "outputs": [],
   "source": [
    "df['selling_price'] = df['selling_price'].apply(clean_price)"
   ]
  },
  {
   "cell_type": "code",
   "execution_count": null,
   "metadata": {},
   "outputs": [],
   "source": [
    "df.info()"
   ]
  },
  {
   "cell_type": "code",
   "execution_count": null,
   "metadata": {},
   "outputs": [],
   "source": [
    "df.head()"
   ]
  },
  {
   "cell_type": "code",
   "execution_count": null,
   "metadata": {},
   "outputs": [],
   "source": [
    "df.drop_duplicates(subset='title') # just a demo"
   ]
  },
  {
   "cell_type": "code",
   "execution_count": null,
   "metadata": {},
   "outputs": [],
   "source": [
    "print(df.columns.tolist())"
   ]
  },
  {
   "cell_type": "code",
   "execution_count": null,
   "metadata": {},
   "outputs": [],
   "source": [
    "# rename a column\n",
    "df.rename(columns={'product_details':'details'}, inplace=True)"
   ]
  },
  {
   "cell_type": "code",
   "execution_count": null,
   "metadata": {},
   "outputs": [],
   "source": [
    "df.sort_values(by=['actual_price','discount'], ascending=False, inplace=True)"
   ]
  },
  {
   "cell_type": "code",
   "execution_count": null,
   "metadata": {},
   "outputs": [],
   "source": [
    "\n",
    "pricesdf = df[['title','actual_price','discount','average_rating','selling_price']]"
   ]
  },
  {
   "cell_type": "code",
   "execution_count": null,
   "metadata": {},
   "outputs": [],
   "source": [
    "pricesdf['discount'].plot.hist(bins=20, figsize=(10,5))"
   ]
  },
  {
   "cell_type": "code",
   "execution_count": null,
   "metadata": {},
   "outputs": [],
   "source": [
    "# styling your dataframe\n",
    "pricesdf.head(30).style.bar(subset=['actual_price','selling_price'], color='#330033')"
   ]
  },
  {
   "cell_type": "code",
   "execution_count": null,
   "metadata": {},
   "outputs": [],
   "source": [
    "# styling your dataframe\n",
    "pricesdf.head(30).style.background_gradient()"
   ]
  },
  {
   "cell_type": "code",
   "execution_count": null,
   "metadata": {},
   "outputs": [],
   "source": []
  }
 ],
 "metadata": {
  "kernelspec": {
   "display_name": "base",
   "language": "python",
   "name": "python3"
  },
  "language_info": {
   "codemirror_mode": {
    "name": "ipython",
    "version": 3
   },
   "file_extension": ".py",
   "mimetype": "text/x-python",
   "name": "python",
   "nbconvert_exporter": "python",
   "pygments_lexer": "ipython3",
   "version": "3.10.11"
  },
  "orig_nbformat": 4
 },
 "nbformat": 4,
 "nbformat_minor": 2
}
